{
 "cells": [
  {
   "cell_type": "code",
   "execution_count": null,
   "metadata": {
    "id": "v7XgXMG1XJUb"
   },
   "outputs": [],
   "source": [
    "import numpy as np\n",
    "import tensorflow as tf\n",
    "import pandas as pd\n",
    "import keras\n",
    "from keras import models\n",
    "from keras import layers \n",
    "#loading cifar10 dataset\n",
    "(x_train,train_label),(x_test,test_label) =keras.datasets.cifar10.load_data()\n",
    "'''splitting training data into validation data and training data in such a way that\n",
    " first 10000 images and their labels are used for validation purpose and other 40000 \n",
    " are used for training purpose'''\n",
    "#validation data and validation labels\n",
    "x_validation=x_train[:10000] \n",
    "val_label=train_label[:10000]\n",
    "#training data and training labels\n",
    "training_data=x_train[10000:]\n",
    "training_label=train_label[10000:]\n",
    "#normalizing training data from 0 to 1\n",
    "training_data=training_data.astype('float32')\n",
    "training_data=training_data/255\n",
    "#normalizing validation data from 0 to 1\n",
    "x_validation=x_validation.astype('float32')\n",
    "x_validation=x_validation/255\n",
    "#normalizing testing data from 0 to 1\n",
    "x_test=x_test.astype('float32')\n",
    "x_test=x_test/255\n",
    "#one hot encoding the training, validation and testing labels\n",
    "classes=10\n",
    "training_label= keras.utils.to_categorical(training_label,classes)\n",
    "test_label= keras.utils.to_categorical(test_label,classes)\n",
    "val_label= keras.utils.to_categorical(val_label,classes)\n",
    "val_label.shape\n",
    "training_label[0]\n",
    "from keras import regularizers\n",
    "model= models.Sequential()\n",
    "model.add(layers.Conv2D(64,(3,3),activation='relu',input_shape=(32,32,3)))\n",
    "model.add(layers.MaxPooling2D((2,2)))\n",
    "model.add(layers.Dropout(0.2))\n",
    "model.add(layers.Conv2D(128,(5,5),activation='relu'))\n",
    "model.add(layers.MaxPooling2D((2,2)))\n",
    "model.add(layers.Dropout(0.2))\n",
    "model.add(layers.Flatten())\n",
    "model.add(layers.Dense(256,activation='relu'))\n",
    "model.add(layers.Dropout(0.2))\n",
    "model.add(layers.Dense(10,activation='softmax'))\n",
    "#lr=keras.optimizers.RMSprop(learning_rate=0.01)\n",
    "def scheduler(epochs, lr=0.1):\n",
    "  if epochs < 10:\n",
    "    return lr\n",
    "  else:\n",
    "    return lr * tf.math.exp(-0.1)\n",
    " \n",
    "callback = tf.keras.callbacks.LearningRateScheduler(scheduler)\n",
    "model.compile(optimizer='rmsprop',loss='categorical_crossentropy',metrics=['accuracy'])\n",
    "model.summary()\n",
    "history=model.fit(training_data,training_label,batch_size=1024,epochs=30,\n",
    "                  validation_data=(x_validation,val_label),callbacks=[callback])"
   ]
  },
  {
   "cell_type": "code",
   "execution_count": null,
   "metadata": {
    "colab": {
     "base_uri": "https://localhost:8080/"
    },
    "executionInfo": {
     "elapsed": 4261,
     "status": "ok",
     "timestamp": 1620702128525,
     "user": {
      "displayName": "nouman aziz",
      "photoUrl": "https://lh3.googleusercontent.com/a-/AOh14Gg4u_caCAgOMpoqZtB8YLjYDmFcNNH0Wgh_lcB0=s64",
      "userId": "03881710714920860008"
     },
     "user_tz": -300
    },
    "id": "cB-j22frYjSz",
    "outputId": "b300d22b-8eca-4033-ba2b-87e6c3a3377c"
   },
   "outputs": [
    {
     "data": {
      "text/plain": [
       "array([0., 1., 0., 0., 0., 0., 0., 0., 0., 0.], dtype=float32)"
      ]
     },
     "execution_count": 160,
     "metadata": {
      "tags": []
     },
     "output_type": "execute_result"
    }
   ],
   "source": [
    "#normalizing training data from 0 to 1\n",
    "training_data=training_data.astype('float32')\n",
    "training_data=training_data/255\n",
    "#normalizing validation data from 0 to 1\n",
    "x_validation=x_validation.astype('float32')\n",
    "x_validation=x_validation/255\n",
    "#normalizing testing data from 0 to 1\n",
    "x_test=x_test.astype('float32')\n",
    "x_test=x_test/255\n",
    "#one hot encoding the training, validation and testing labels\n",
    "classes=10\n",
    "training_label= keras.utils.to_categorical(training_label,classes)\n",
    "test_label= keras.utils.to_categorical(test_label,classes)\n",
    "val_label= keras.utils.to_categorical(val_label,classes)\n",
    "val_label.shape\n",
    "training_label[0]"
   ]
  },
  {
   "cell_type": "code",
   "execution_count": null,
   "metadata": {
    "colab": {
     "base_uri": "https://localhost:8080/"
    },
    "executionInfo": {
     "elapsed": 932,
     "status": "ok",
     "timestamp": 1620702131970,
     "user": {
      "displayName": "nouman aziz",
      "photoUrl": "https://lh3.googleusercontent.com/a-/AOh14Gg4u_caCAgOMpoqZtB8YLjYDmFcNNH0Wgh_lcB0=s64",
      "userId": "03881710714920860008"
     },
     "user_tz": -300
    },
    "id": "MfB_sjzrr5PW",
    "outputId": "7014b5e1-1730-460b-a365-178417081f6f"
   },
   "outputs": [
    {
     "name": "stdout",
     "output_type": "stream",
     "text": [
      "Model: \"sequential_30\"\n",
      "_________________________________________________________________\n",
      "Layer (type)                 Output Shape              Param #   \n",
      "=================================================================\n",
      "conv2d_73 (Conv2D)           (None, 30, 30, 64)        1792      \n",
      "_________________________________________________________________\n",
      "max_pooling2d_62 (MaxPooling (None, 15, 15, 64)        0         \n",
      "_________________________________________________________________\n",
      "dropout_74 (Dropout)         (None, 15, 15, 64)        0         \n",
      "_________________________________________________________________\n",
      "conv2d_74 (Conv2D)           (None, 11, 11, 128)       204928    \n",
      "_________________________________________________________________\n",
      "max_pooling2d_63 (MaxPooling (None, 5, 5, 128)         0         \n",
      "_________________________________________________________________\n",
      "dropout_75 (Dropout)         (None, 5, 5, 128)         0         \n",
      "_________________________________________________________________\n",
      "flatten_30 (Flatten)         (None, 3200)              0         \n",
      "_________________________________________________________________\n",
      "dense_60 (Dense)             (None, 256)               819456    \n",
      "_________________________________________________________________\n",
      "dropout_76 (Dropout)         (None, 256)               0         \n",
      "_________________________________________________________________\n",
      "dense_61 (Dense)             (None, 10)                2570      \n",
      "=================================================================\n",
      "Total params: 1,028,746\n",
      "Trainable params: 1,028,746\n",
      "Non-trainable params: 0\n",
      "_________________________________________________________________\n"
     ]
    }
   ],
   "source": [
    "from keras import regularizers\n",
    "model= models.Sequential()\n",
    "model.add(layers.Conv2D(64,(3,3),activation='relu',input_shape=(32,32,3)))\n",
    "model.add(layers.MaxPooling2D((2,2)))\n",
    "model.add(layers.Dropout(0.2))\n",
    "model.add(layers.Conv2D(128,(5,5),activation='relu'))\n",
    "model.add(layers.MaxPooling2D((2,2)))\n",
    "model.add(layers.Dropout(0.2))\n",
    "model.add(layers.Flatten())\n",
    "model.add(layers.Dense(256,activation='relu'))\n",
    "model.add(layers.Dropout(0.2))\n",
    "model.add(layers.Dense(10,activation='softmax'))\n",
    "#lr=keras.optimizers.RMSprop(learning_rate=0.01)\n",
    "def scheduler(epochs, lr=0.1):\n",
    "  if epochs < 10:\n",
    "    return lr\n",
    "  else:\n",
    "    return lr * tf.math.exp(-0.1)\n",
    " \n",
    "callback = tf.keras.callbacks.LearningRateScheduler(scheduler)\n",
    "model.compile(optimizer='rmsprop',loss='categorical_crossentropy',metrics=['accuracy'])\n",
    "model.summary()"
   ]
  },
  {
   "cell_type": "code",
   "execution_count": null,
   "metadata": {
    "colab": {
     "base_uri": "https://localhost:8080/"
    },
    "executionInfo": {
     "elapsed": 4828588,
     "status": "ok",
     "timestamp": 1620706964803,
     "user": {
      "displayName": "nouman aziz",
      "photoUrl": "https://lh3.googleusercontent.com/a-/AOh14Gg4u_caCAgOMpoqZtB8YLjYDmFcNNH0Wgh_lcB0=s64",
      "userId": "03881710714920860008"
     },
     "user_tz": -300
    },
    "id": "kU5bwhT2tJdF",
    "outputId": "fe43186f-af1b-48c5-e181-7d81d6d5a0f4"
   },
   "outputs": [
    {
     "name": "stdout",
     "output_type": "stream",
     "text": [
      "Epoch 1/30\n",
      "40/40 [==============================] - 162s 4s/step - loss: 2.3382 - accuracy: 0.1647 - val_loss: 1.8846 - val_accuracy: 0.3401\n",
      "Epoch 2/30\n",
      "40/40 [==============================] - 160s 4s/step - loss: 1.9024 - accuracy: 0.3246 - val_loss: 1.8728 - val_accuracy: 0.3091\n",
      "Epoch 3/30\n",
      "40/40 [==============================] - 161s 4s/step - loss: 1.8011 - accuracy: 0.3622 - val_loss: 1.7308 - val_accuracy: 0.3524\n",
      "Epoch 4/30\n",
      "40/40 [==============================] - 160s 4s/step - loss: 1.5972 - accuracy: 0.4340 - val_loss: 1.4319 - val_accuracy: 0.4833\n",
      "Epoch 5/30\n",
      "40/40 [==============================] - 160s 4s/step - loss: 1.5407 - accuracy: 0.4691 - val_loss: 1.4961 - val_accuracy: 0.4772\n",
      "Epoch 6/30\n",
      "40/40 [==============================] - 160s 4s/step - loss: 1.4185 - accuracy: 0.5073 - val_loss: 1.4672 - val_accuracy: 0.4673\n",
      "Epoch 7/30\n",
      "40/40 [==============================] - 161s 4s/step - loss: 1.3400 - accuracy: 0.5351 - val_loss: 1.4173 - val_accuracy: 0.4870\n",
      "Epoch 8/30\n",
      "40/40 [==============================] - 161s 4s/step - loss: 1.2795 - accuracy: 0.5564 - val_loss: 1.3425 - val_accuracy: 0.5246\n",
      "Epoch 9/30\n",
      "40/40 [==============================] - 161s 4s/step - loss: 1.2202 - accuracy: 0.5757 - val_loss: 1.3072 - val_accuracy: 0.5535\n",
      "Epoch 10/30\n",
      "40/40 [==============================] - 161s 4s/step - loss: 1.1737 - accuracy: 0.5954 - val_loss: 1.0885 - val_accuracy: 0.6238\n",
      "Epoch 11/30\n",
      "40/40 [==============================] - 161s 4s/step - loss: 1.0787 - accuracy: 0.6274 - val_loss: 1.1868 - val_accuracy: 0.5832\n",
      "Epoch 12/30\n",
      "40/40 [==============================] - 161s 4s/step - loss: 1.0477 - accuracy: 0.6402 - val_loss: 1.1165 - val_accuracy: 0.6039\n",
      "Epoch 13/30\n",
      "40/40 [==============================] - 161s 4s/step - loss: 0.9924 - accuracy: 0.6555 - val_loss: 1.1329 - val_accuracy: 0.6093\n",
      "Epoch 14/30\n",
      "40/40 [==============================] - 161s 4s/step - loss: 0.9326 - accuracy: 0.6802 - val_loss: 1.0017 - val_accuracy: 0.6461\n",
      "Epoch 15/30\n",
      "40/40 [==============================] - 161s 4s/step - loss: 0.9118 - accuracy: 0.6833 - val_loss: 0.9996 - val_accuracy: 0.6502\n",
      "Epoch 16/30\n",
      "40/40 [==============================] - 161s 4s/step - loss: 0.8724 - accuracy: 0.7010 - val_loss: 0.9715 - val_accuracy: 0.6542\n",
      "Epoch 17/30\n",
      "40/40 [==============================] - 161s 4s/step - loss: 0.8357 - accuracy: 0.7115 - val_loss: 0.9247 - val_accuracy: 0.6785\n",
      "Epoch 18/30\n",
      "40/40 [==============================] - 161s 4s/step - loss: 0.8063 - accuracy: 0.7223 - val_loss: 0.9839 - val_accuracy: 0.6627\n",
      "Epoch 19/30\n",
      "40/40 [==============================] - 161s 4s/step - loss: 0.7935 - accuracy: 0.7251 - val_loss: 0.8924 - val_accuracy: 0.6877\n",
      "Epoch 20/30\n",
      "40/40 [==============================] - 161s 4s/step - loss: 0.7608 - accuracy: 0.7387 - val_loss: 0.9050 - val_accuracy: 0.6868\n",
      "Epoch 21/30\n",
      "40/40 [==============================] - 161s 4s/step - loss: 0.7461 - accuracy: 0.7432 - val_loss: 0.8937 - val_accuracy: 0.6866\n",
      "Epoch 22/30\n",
      "40/40 [==============================] - 161s 4s/step - loss: 0.7286 - accuracy: 0.7464 - val_loss: 0.8328 - val_accuracy: 0.7123\n",
      "Epoch 23/30\n",
      "40/40 [==============================] - 161s 4s/step - loss: 0.7089 - accuracy: 0.7545 - val_loss: 0.8555 - val_accuracy: 0.7036\n",
      "Epoch 24/30\n",
      "40/40 [==============================] - 161s 4s/step - loss: 0.6978 - accuracy: 0.7582 - val_loss: 0.8801 - val_accuracy: 0.6947\n",
      "Epoch 25/30\n",
      "40/40 [==============================] - 161s 4s/step - loss: 0.6823 - accuracy: 0.7680 - val_loss: 0.8505 - val_accuracy: 0.7091\n",
      "Epoch 26/30\n",
      "40/40 [==============================] - 161s 4s/step - loss: 0.6716 - accuracy: 0.7703 - val_loss: 0.8414 - val_accuracy: 0.7111\n",
      "Epoch 27/30\n",
      "40/40 [==============================] - 161s 4s/step - loss: 0.6655 - accuracy: 0.7701 - val_loss: 0.8384 - val_accuracy: 0.7113\n",
      "Epoch 28/30\n",
      "40/40 [==============================] - 161s 4s/step - loss: 0.6558 - accuracy: 0.7735 - val_loss: 0.7875 - val_accuracy: 0.7286\n",
      "Epoch 29/30\n",
      "40/40 [==============================] - 161s 4s/step - loss: 0.6533 - accuracy: 0.7748 - val_loss: 0.7780 - val_accuracy: 0.7298\n",
      "Epoch 30/30\n",
      "40/40 [==============================] - 161s 4s/step - loss: 0.6394 - accuracy: 0.7805 - val_loss: 0.7903 - val_accuracy: 0.7263\n"
     ]
    }
   ],
   "source": [
    "history=model.fit(training_data,training_label,batch_size=1024,epochs=30,\n",
    "                  validation_data=(x_validation,val_label),callbacks=[callback])"
   ]
  },
  {
   "cell_type": "code",
   "execution_count": null,
   "metadata": {
    "id": "U_aulMV1m2jX"
   },
   "outputs": [],
   "source": []
  },
  {
   "cell_type": "code",
   "execution_count": null,
   "metadata": {
    "colab": {
     "base_uri": "https://localhost:8080/",
     "height": 295
    },
    "executionInfo": {
     "elapsed": 969,
     "status": "ok",
     "timestamp": 1620706973446,
     "user": {
      "displayName": "nouman aziz",
      "photoUrl": "https://lh3.googleusercontent.com/a-/AOh14Gg4u_caCAgOMpoqZtB8YLjYDmFcNNH0Wgh_lcB0=s64",
      "userId": "03881710714920860008"
     },
     "user_tz": -300
    },
    "id": "u60okVS3Kkfn",
    "outputId": "08d4a5be-7d04-402e-d411-8129ec6d2a35"
   },
   "outputs": [
    {
     "data": {
      "image/png": "[encoded data removed]",
      "text/plain": [
       "<Figure size 432x288 with 1 Axes>"
      ]
     },
     "metadata": {
      "needs_background": "light",
      "tags": []
     },
     "output_type": "display_data"
    }
   ],
   "source": [
    "import matplotlib.pyplot as plt\n",
    "loss = history.history['loss']\n",
    "val_loss = history.history['val_loss']\n",
    "epochs = range(1, len(loss) + 1)\n",
    "plt.plot(epochs, loss, 'bo', label='Training loss')\n",
    "plt.plot(epochs, val_loss, 'b', label='Validation loss')\n",
    "plt.title('Training and validation loss')\n",
    "plt.xlabel('Epochs')\n",
    "plt.ylabel('Loss')\n",
    "plt.legend()\n",
    "plt.show()"
   ]
  },
  {
   "cell_type": "code",
   "execution_count": null,
   "metadata": {
    "colab": {
     "base_uri": "https://localhost:8080/",
     "height": 295
    },
    "executionInfo": {
     "elapsed": 1048,
     "status": "ok",
     "timestamp": 1620706980308,
     "user": {
      "displayName": "nouman aziz",
      "photoUrl": "https://lh3.googleusercontent.com/a-/AOh14Gg4u_caCAgOMpoqZtB8YLjYDmFcNNH0Wgh_lcB0=s64",
      "userId": "03881710714920860008"
     },
     "user_tz": -300
    },
    "id": "In8l0xmAPdDY",
    "outputId": "e7ae027e-238c-4c69-db2d-234d549a1c1f"
   },
   "outputs": [
    {
     "data": {
      "image/png": "[encoded data removed]",
      "text/plain": [
       "<Figure size 432x288 with 1 Axes>"
      ]
     },
     "metadata": {
      "needs_background": "light",
      "tags": []
     },
     "output_type": "display_data"
    }
   ],
   "source": [
    "acc = history.history['accuracy']\n",
    "val_acc = history.history['val_accuracy']\n",
    "plt.plot(epochs, acc, 'bo', label='Training acc')\n",
    "plt.plot(epochs, val_acc, 'b', label='Validation acc')\n",
    "plt.title('Training and validation accuracy')\n",
    "plt.xlabel('Epochs')\n",
    "plt.ylabel('Accuracy')\n",
    "plt.legend()\n",
    "plt.show()"
   ]
  },
  {
   "cell_type": "code",
   "execution_count": null,
   "metadata": {
    "colab": {
     "base_uri": "https://localhost:8080/"
    },
    "executionInfo": {
     "elapsed": 11036,
     "status": "ok",
     "timestamp": 1620707059793,
     "user": {
      "displayName": "nouman aziz",
      "photoUrl": "https://lh3.googleusercontent.com/a-/AOh14Gg4u_caCAgOMpoqZtB8YLjYDmFcNNH0Wgh_lcB0=s64",
      "userId": "03881710714920860008"
     },
     "user_tz": -300
    },
    "id": "iWihLWN9P3Wa",
    "outputId": "eafe0a68-7cc6-4135-8dd3-eac2942ba1b9"
   },
   "outputs": [
    {
     "data": {
      "text/plain": [
       "[0.8130086660385132, 0.7231000065803528]"
      ]
     },
     "execution_count": 165,
     "metadata": {
      "tags": []
     },
     "output_type": "execute_result"
    }
   ],
   "source": [
    "results=model.evaluate(x_test, test_label, verbose=0)\n",
    "results"
   ]
  }
 ],
 "metadata": {
  "colab": {
   "authorship_tag": "ABX9TyMLUJ5vScMA8cfq/U16W3lT",
   "collapsed_sections": [],
   "name": "Untitled8.ipynb",
   "provenance": []
  },
  "kernelspec": {
   "display_name": "Python 3",
   "language": "python",
   "name": "python3"
  },
  "language_info": {
   "codemirror_mode": {
    "name": "ipython",
    "version": 3
   },
   "file_extension": ".py",
   "mimetype": "text/x-python",
   "name": "python",
   "nbconvert_exporter": "python",
   "pygments_lexer": "ipython3",
   "version": "3.8.8"
  }
 },
 "nbformat": 4,
 "nbformat_minor": 1
}
